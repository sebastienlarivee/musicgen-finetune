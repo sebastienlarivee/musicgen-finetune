{
  "cells": [
    {
      "cell_type": "code",
      "execution_count": 49,
      "metadata": {
        "cellView": "form",
        "id": "6m_6y1qOKu8S"
      },
      "outputs": [],
      "source": [
        "# @title Graph Function [RUN 1st]\n",
        "\n",
        "import matplotlib.pyplot as plt\n",
        "import re\n",
        "from datetime import datetime\n",
        "import numpy as np\n",
        "\n",
        "def plot_graph(data_string):\n",
        "\n",
        "    # Split and filter logs\n",
        "    logs = data_string.strip().split(\"\\n\")\n",
        "    logs = [log for log in logs if \"Train |\" in log]\n",
        "\n",
        "    # Extracting data\n",
        "    times = []\n",
        "    ce_values = []\n",
        "    epochs = []\n",
        "\n",
        "    for log in logs:\n",
        "        time_match = re.search(r\"\\[(\\d{2}-\\d{2} \\d{2}:\\d{2}:\\d{2})\\]\", log)\n",
        "        ce_match = re.search(r\"ce (\\d+\\.\\d+)\", log)\n",
        "        epoch_match = re.search(r\"Epoch (\\d+)\", log)\n",
        "\n",
        "        if time_match and ce_match and epoch_match:\n",
        "            time_str = time_match.group(1)\n",
        "            time_format = datetime.strptime(time_str, '%m-%d %H:%M:%S')\n",
        "            times.append(time_format)\n",
        "\n",
        "            ce_values.append(float(ce_match.group(1)))\n",
        "            epochs.append(int(epoch_match.group(1)))\n",
        "\n",
        "    # Plotting\n",
        "    fig, ax = plt.subplots(figsize=(12,6))\n",
        "\n",
        "    # Colors for each epoch\n",
        "    colors = plt.cm.viridis(np.linspace(0, 1, len(set(epochs))))\n",
        "    for i in range(1, len(epochs)):\n",
        "        ax.plot(times[i-1:i+1], ce_values[i-1:i+1], color=colors[epochs[i-1]-1], linewidth=2)\n",
        "\n",
        "    # Make it look cool 😎\n",
        "    plt.style.use('dark_background')\n",
        "    ax.grid(linestyle='--', linewidth=0.5, alpha=0.7)\n",
        "    for spine in ['top', 'right', 'bottom', 'left']:\n",
        "        ax.spines[spine].set_visible(False)\n",
        "    ax.set_xlabel(\"Time\", color='white', fontsize=12)\n",
        "    ax.set_ylabel(\"Cross entropy\", color='white', fontsize=12)\n",
        "    ax.set_title(\"Cross entropy vs Time\", color='white', fontsize=14)\n",
        "\n",
        "    # Legend\n",
        "    from matplotlib.patches import Patch\n",
        "    legend_elements = [Patch(facecolor=colors[i], edgecolor=colors[i], label=f'Epoch {i+1}') for i in range(len(colors))]\n",
        "    ax.legend(handles=legend_elements, loc='upper right', fontsize=10, frameon=False)\n",
        "\n",
        "    plt.show()\n",
        "\n"
      ]
    },
    {
      "cell_type": "code",
      "execution_count": null,
      "metadata": {
        "cellView": "form",
        "id": "vGgjycB9jmdv"
      },
      "outputs": [],
      "source": [
        "# @title Replace raw_logs=\"\"\" \"\"\" With Your Logs [RUN 2nd]\n",
        "raw_logs = \"\"\"\n",
        "EXAMPLE LOGS\n",
        "[09-05 06:20:28][dora.distrib][INFO] - world_size is 1, skipping init.\n",
        "[09-05 06:20:28][flashy.solver][INFO] - Instantiating solver MusicGenSolver for XP 45f4564f\n",
        "[09-05 06:20:28][flashy.solver][INFO] - All XP logs are stored in /tmp/audiocraft_lyra/xps/45f4564f\n",
        "[09-05 06:20:28][audiocraft.solvers.builders][INFO] - Loading audio data split evaluate: /content/audiocraft/egs/eval\n",
        "[09-05 06:23:53][flashy.solver][INFO] - Train | Epoch 1 | 200/2000 | 1.16 it/sec | lr 9.78E-05 | grad_norm INF | grad_scale 17851.224 | ce 3.363 | ppl 40.944\n",
        "[09-05 06:26:36][flashy.solver][INFO] - Train | Epoch 1 | 400/2000 | 1.20 it/sec | lr 1.00E-04 | grad_norm 7.810E+00 | grad_scale 16384.000 | ce 3.176 | ppl 30.658\n",
        "[09-05 06:29:16][flashy.solver][INFO] - Train | Epoch 1 | 600/2000 | 1.21 it/sec | lr 9.99E-05 | grad_norm 6.237E+00 | grad_scale 16384.000 | ce 3.135 | ppl 30.004\n",
        "[09-05 06:31:46][flashy.solver][INFO] - Train | Epoch 1 | 800/2000 | 1.24 it/sec | lr 9.99E-05 | grad_norm 5.543E+00 | grad_scale 16384.000 | ce 2.996 | ppl 25.514\n",
        "[09-05 06:34:12][flashy.solver][INFO] - Train | Epoch 1 | 1000/2000 | 1.27 it/sec | lr 9.98E-05 | grad_norm 5.169E+00 | grad_scale 16384.000 | ce 3.131 | ppl 28.054\n",
        "[09-05 06:36:25][flashy.solver][INFO] - Train | Epoch 1 | 1200/2000 | 1.30 it/sec | lr 9.97E-05 | grad_norm 4.628E+00 | grad_scale 16384.000 | ce 3.052 | ppl 26.703\n",
        "[09-05 06:38:32][flashy.solver][INFO] - Train | Epoch 1 | 1400/2000 | 1.33 it/sec | lr 9.95E-05 | grad_norm 3.876E+00 | grad_scale 16384.000 | ce 2.868 | ppl 23.092\n",
        "[09-05 06:40:42][flashy.solver][INFO] - Train | Epoch 1 | 1600/2000 | 1.36 it/sec | lr 9.94E-05 | grad_norm 4.084E+00 | grad_scale 16384.000 | ce 2.971 | ppl 24.193\n",
        "[09-05 06:42:41][flashy.solver][INFO] - Train | Epoch 1 | 1800/2000 | 1.39 it/sec | lr 9.92E-05 | grad_norm 3.930E+00 | grad_scale 16384.000 | ce 3.022 | ppl 25.187\n",
        "[09-05 06:44:45][flashy.solver][INFO] - Train Summary | Epoch 1 | lr=9.94E-05 | grad_norm=INF | grad_scale=16531.456 | ce=3.071 | ppl=27.970 | duration=1437.581\n",
        "\"\"\"\n",
        "\n",
        "# Graph it\n",
        "plot_graph(raw_logs)\n"
      ]
    }
  ],
  "metadata": {
    "colab": {
      "provenance": []
    },
    "kernelspec": {
      "display_name": "Python 3",
      "name": "python3"
    },
    "language_info": {
      "name": "python"
    }
  },
  "nbformat": 4,
  "nbformat_minor": 0
}
