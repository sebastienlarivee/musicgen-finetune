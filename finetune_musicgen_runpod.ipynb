{
 "cells": [
  {
   "cell_type": "code",
   "execution_count": null,
   "metadata": {
    "id": "enkrtCxqO3Ul"
   },
   "outputs": [],
   "source": [
    "!git clone https://github.com/facebookresearch/audiocraft.git\n",
    "%cd audiocraft\n",
    "!pip install -e .\n",
    "!pip install dora-search\n",
    "!pip install jsonlines"
   ]
  },
  {
   "cell_type": "code",
   "execution_count": 2,
   "metadata": {
    "id": "9eWkwDVnP2gw"
   },
   "outputs": [],
   "source": [
    "# download dataset.tar.gz and extract\n",
    "\n",
    "import urllib.request\n",
    "import tarfile\n",
    "import glob\n",
    "import os\n",
    "import json, jsonlines\n",
    "\n",
    "# URL and destination folder\n",
    "url = \"path/to/dataset\"\n",
    "destination_folder = \"dataset\"\n",
    "os.makedirs(destination_folder, exist_ok=True)\n",
    "\n",
    "# Download tar.gz file\n",
    "tar_gz_path = os.path.join(destination_folder, \"dataset_name.tar.gz\")\n",
    "urllib.request.urlretrieve(url, tar_gz_path)\n",
    "\n",
    "# Extract tar.gz into destination folder\n",
    "with tarfile.open(tar_gz_path, 'r:gz') as tar:\n",
    "    tar.extractall(path=destination_folder)\n",
    "\n",
    "# kill text files\n",
    "txt_files = glob.glob(os.path.join(destination_folder, '*.txt'))\n",
    "for txt_file in txt_files:\n",
    "    os.remove(txt_file)\n",
    "\n",
    "# download yaml and jsonl\n",
    "\n",
    "urls_destinations = {\n",
    "    \"path/to/test.jsonl\": \"/workspace/audiocraft/egs/eval/data.jsonl\",\n",
    "    \"path/to/train.jsonl\": \"/workspace/audiocraft/egs/train/data.jsonl\"\n",
    "}\n",
    "os.makedirs(\"/workspace/audiocraft/egs/train\", exist_ok=True)\n",
    "os.makedirs(\"/workspace/audiocraft/egs/eval\", exist_ok=True)\n",
    "\n",
    "for url, destination in urls_destinations.items():\n",
    "    urllib.request.urlretrieve(url, destination)\n",
    "\n",
    "urllib.request.urlretrieve(\"path/to/train.yaml\", \"/workspace/audiocraft/config/dset/audio/train.yaml\")"
   ]
  },
  {
   "cell_type": "code",
   "execution_count": 18,
   "metadata": {},
   "outputs": [],
   "source": [
    "# fix paths in jsonl if needed\n",
    "for jsonl_file in [\"/workspace/audiocraft/egs/train/data.jsonl\",\"/workspace/audiocraft/egs/eval/data.jsonl\"]:\n",
    "    temp_list = []\n",
    "    with open(jsonl_file, 'r') as infile:\n",
    "        for line in infile:\n",
    "            obj = json.loads(line)\n",
    "            file_name = os.path.basename(obj[\"path\"])\n",
    "            new_path = os.path.join(destination_folder, file_name)\n",
    "            obj[\"path\"] = new_path\n",
    "            temp_list.append(json.dumps(obj))\n",
    "\n",
    "    with open(jsonl_file, 'w') as outfile:\n",
    "        outfile.write('\\n'.join(temp_list) + '\\n')"
   ]
  },
  {
   "cell_type": "code",
   "execution_count": null,
   "metadata": {
    "id": "fcQnvAzUP5cb"
   },
   "outputs": [],
   "source": [
    "# train\n",
    "%env USER=seb\n",
    "command = (\n",
    "    \"dora -P audiocraft run -d \"\n",
    "    \" solver=musicgen/musicgen_base_32khz\"\n",
    "    \" model/lm/model_scale=large\"\n",
    "    \" continue_from=//pretrained/facebook/musicgen-large\"\n",
    "    \" conditioner=text2music\"\n",
    "    \" dset=audio/train\"\n",
    "    \" dataset.num_workers=2\"\n",
    "    \" dataset.valid.num_samples=1\"\n",
    "    \" dataset.batch_size=4\"\n",
    "    \" schedule.cosine.warmup=8\"\n",
    "    \" optim.optimizer=adamw\"\n",
    "    \" optim.lr=1e-4\"\n",
    "    \" optim.epochs=5\"\n",
    "    \" optim.adam.weight_decay=0.01\"\n",
    "    \" fsdp.use=true\"\n",
    "    \" autocast=false\"\n",
    ")\n",
    "!{command}\n"
   ]
  },
  {
   "cell_type": "code",
   "execution_count": null,
   "metadata": {
    "id": "vVY3-H75UOXK"
   },
   "outputs": [],
   "source": [
    "#save the model\n",
    "folder_to_save_checkpoints_in = \"/workspace/checkpoint\"\n",
    "os.makedirs(folder_to_save_checkpoints_in, exist_ok=True)\n",
    "\n",
    "import os\n",
    "root_dir = \"/tmp/audiocraft_seb/xps/\"\n",
    "subfolders = [d for d in os.listdir(root_dir) if os.path.isdir(os.path.join(root_dir, d))]\n",
    "joined_paths = [os.path.join(root_dir, subfolder) for subfolder in subfolders]\n",
    "SIG = max(joined_paths, key=os.path.getmtime)\n",
    "\n",
    "from audiocraft.utils import export\n",
    "from audiocraft import train\n",
    "xp = train.main.get_xp_from_sig(SIG)\n",
    "export.export_lm(xp.folder / 'checkpoint.th', os.path.join(folder_to_save_checkpoints_in, 'state_dict.bin'))\n",
    "export.export_pretrained_compression_model('facebook/encodec_32khz', os.path.join(folder_to_save_checkpoints_in, 'compression_state_dict.bin'))"
   ]
  }
 ],
 "metadata": {
  "colab": {
   "provenance": []
  },
  "kernelspec": {
   "display_name": "Python 3 (ipykernel)",
   "language": "python",
   "name": "python3"
  },
  "language_info": {
   "codemirror_mode": {
    "name": "ipython",
    "version": 3
   },
   "file_extension": ".py",
   "mimetype": "text/x-python",
   "name": "python",
   "nbconvert_exporter": "python",
   "pygments_lexer": "ipython3",
   "version": "3.10.6"
  }
 },
 "nbformat": 4,
 "nbformat_minor": 4
}
